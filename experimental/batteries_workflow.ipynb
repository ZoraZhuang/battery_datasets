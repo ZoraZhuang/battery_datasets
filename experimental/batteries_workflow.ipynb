{
 "cells": [
  {
   "cell_type": "markdown",
   "id": "241288f4",
   "metadata": {},
   "source": [
    "# General Information"
   ]
  },
  {
   "cell_type": "markdown",
   "id": "ff97b026",
   "metadata": {},
   "source": [
    "## 1. The Dataset\n",
    "\n",
    "This notebook contains our effort to reformat and clean [the experimental dataset of battery materials](https://doi.org/10.1038/s41597-020-00602-2) that is auto-generated using ChemDataExtractor.\n",
    "\n",
    "\n",
    "Files:\n",
    "- battery.csv: the original dataset by the cambridge group\n",
    "---\n",
    "- battery_clean.csv: the cleaned dataset\n",
    "- battery#2_partially_corrected.csv: the file that contains manual corrections (Step 3 of the code section)\n",
    "---\n",
    "- battery_further_cleaned.csv: the cleaned dataset after applying the max coefficient cutoff (see 3.4 Coefficient-based data pruning and Step 3 of the code section)\n",
    "---\n",
    "- battery_ultra_cleaned.csv: the cleaned dataset after applying the max coefficient cutoff and the acronym / misrepresentation pruning (see 3.5 Dealing with acronyms and Step 3 of the code section)\n",
    "- misrepresented.csv: the file that identifies instances with misrepresented formulas \n",
    "---\n",
    "- periodic_table.csv: a periodic table containing elements and their properties. Could be used for feature encoding. \n",
    "\n",
    "The ultra cleaned version of the dataset has 254749 out of 292313 datapoints of the original dataset, each representing a battery cell. Each datapoint records exactly one property of the battery cell. There are 26 features/columns in the dataset:\n",
    "\n",
    "|                       Feature                       |                                                Description                                                |\n",
    "|:---------------------------------------------------:|:---------------------------------------------------------------------------------------------------------:|\n",
    "| Formulas                                            | The formulas of battery components as a list of strings                                                   |\n",
    "| Name_extracted                                      | The components extracted by ChemdataExtractor as a list of dictionaries                                   |\n",
    "| Name_source                                         | Text extracted from the original paper that contains information about battery composition                |\n",
    "| heterojunction                                      | Whether or not the battery has a dash separator that may imply heterojuntion in its Name_source              |\n",
    "| heterojunction_unresolved                           | If the Formulas has not been corrected with regard to heterojunction (see info about errors)                  |\n",
    "| DOI                                                 | DOI number of the original paper                                                                          |\n",
    "| Date                                                | Date of publication. Might be helpful for data cleaning                                                   |\n",
    "| Warning                                             | Warnings about the datapoint: Serial, near-Limit and Related. See the paper for details |\n",
    "| Type of the material                                | Anode or Cathode                                                                                          |\n",
    "| Property                                            | Propery the datapoint describes: voltage, capacity, efficiency, conductivity and Energy                   |\n",
    "| Specifier                                           | Further information about the property                                                                    |\n",
    "| Capacity_is_discharge                               | Whether or not the recorded capacity is discharge capacity                                                |\n",
    "| Capacity_is_charge                                  | Whether or not the recorded capacity is charge capacity                                                   |\n",
    "| Capacity_is_reversible                              | Whether or not the recorded capacity is reversible capacity                                               |\n",
    "| Capacity_is_specific                                | Whether or not the recorded capacity is specific capacity                                                 |\n",
    "| Capacity_is_theoretical                             | Whether or not the recorded capacity is theoretical capacity                                              |\n",
    "| Capacity/Gram^(-1.0)Hour^(1.0)MilliAmpere^(1.0) | Capacity                                                                                                  |\n",
    "| Cycles                                              | Cycles                                                                                                    |\n",
    "| Current/C_rate                                      | Current in C_rate, cleaned to get rid of textual data                                                     |\n",
    "| Current_original//C_rate                            | Current in C_rate, contains textual data                                                                  |\n",
    "| Current/mAg^(-1)                                    | Current in mAg^(-1), cleaned to get rid of textual data                                                   |\n",
    "| Current_original/mAg^(-1)                           | Current in mAg^(-1), contains textual data                                                                |\n",
    "| Voltage/Volt^(1.0)                                  | Voltage                                                                                                   |\n",
    "| Coulombic Efficiency/Percent^(1.0)                  | Coulombic Efficiency                                                                                      |\n",
    "| Conductivity/CentiMeter^(-1.0)__Siemens^(1.0)       | Conductivity                                                                                              |\n",
    "| Energy/KiloGram^(-1.0)__WattHour^(1.0)              | Energy                                                                                                    |\n",
    "\n",
    "\n",
    "**Please refer to the [original paper](https://doi.org/10.1038/s41597-020-00602-2) for further information.** \n",
    "\n",
    "\n"
   ]
  },
  {
   "cell_type": "markdown",
   "id": "1173eb1c",
   "metadata": {},
   "source": [
    "## 2. Data Cleaning and Error Correction\n",
    "\n",
    "The original dataset augmented energy related data by derving new datapoints from existing datapoints using the formula:\n",
    "\n",
    "\n",
    "Energy ( Wh / g ) = Capacity ( mAh / g ) ∗ Voltage ( V )/1000\n",
    "\n",
    "\n",
    "We removed the calculated datapoints as the calculation result might be problematic and inaccurate. \n",
    "\n",
    "\n",
    "Based on the correctness of the formula, we have removed/ corrected some problematic datapoints.\n",
    "\n",
    "- Datapoints are dropped when:\n",
    "\n",
    "  - There are non-numeric coefficients in the formulas (e.g. SiOx)\n",
    "\n",
    "  - One of the components listed by the original paper is an ion (e.g. Ni(II) or Ni2+). This is because the parser is unable to parser ions and the generated formula is incorrect\n",
    "\n",
    "  - One of the formulas is manually identified as invalid\n",
    "\n",
    "\n",
    "- Datapoints are corrected when:\n",
    "  - There are \"typos\" (mostly text recognition errors in old papers) in the formulas. Common mistakes include:\n",
    "    - o/O -> 0 (where Oxygen as confused with zero)\n",
    "    - capital I, lowercase l, and number 1 confusion\n",
    "    \n",
    "  - Some battery components are not included in the formulas due to the ChemDataExtractor not recognising '–' (dash) as a separator.\n",
    "\n",
    "  - One of the formulas is manually identified as errorneous when compared to the source text\n",
    "\n",
    "\n"
   ]
  },
  {
   "cell_type": "markdown",
   "id": "6dd78ebe",
   "metadata": {},
   "source": [
    "## 3. Using the Dataset\n",
    "\n",
    "### 3.1 Selecting the datapoints\n",
    "\n",
    "Select datapoints with desired battery properties by filtering the Property column and the Specifier column. \n",
    "\n",
    "\n",
    "\n",
    "| Property             | Count  |   \n",
    "|----------------------|--------|\n",
    "| Capacity             | 137532 |   \n",
    "| Voltage              | 103346 |   \n",
    "| Coulombic Efficiency | 10429  |   \n",
    "| Energy               | 8525   |   \n",
    "| Conductivity         | 6635   |   \n",
    "\n",
    "Further information about Capacity is also one-hot encoded into the dataset as features that begin with Capacity_is_ .\n",
    "\n",
    "| Capacity Specifier      | Count |\n",
    "|-------------------------|-------|\n",
    "| Capacity_is_discharge   | 36600 |\n",
    "| Capacity_is_charge      | 8822  |\n",
    "| Capacity_is_reversible  | 16703 |\n",
    "| Capacity_is_specific    | 13474 |\n",
    "| Capacity_is_theoretical | 6261  |\n",
    "\n",
    "### 3.2 Data cleaning based on warnings\n",
    "There are 3 basic types of warnings: Serial, Related, and near-Limit. They can be combined to form complex warnings. Please read the original paper for details. \n",
    "\n",
    "| Warning | Count |\n",
    "|---------|-------|\n",
    "|      N/A|113963 |\n",
    "|       S | 94469 |\n",
    "|       L | 31070 |\n",
    "|      LS | 16332 |\n",
    "|       R |  7519 |\n",
    "|      RL | 3114  |\n",
    "\n",
    "\n",
    "\n",
    "### 3.3 Data cleaning based on the correctness of formulas\n",
    "\n",
    "Although we have tried our best to identify and correct the errors in the formulas, we probably couldn't find all of them. \n",
    "Formulas might have missing components due to the ChemDataExtractor's sub-optimal ability to deal with separators. Some datapoints might not be valid as the Name_source is not an actual chemical, but some random text strings that the ChemDataExtractor recognised as 'formulas'.  In this example 0.7 volts has been confused by the parser as a formula with less than one oxygen atomsand one vanadium atom):\n",
    "\n",
    "\n",
    "| datapoint 2413 |                            |\n",
    "|---------------:|----------------------------|\n",
    "|       Formulas |                  ['O0.7V'] |\n",
    "| Name_extracted | [{'O': '0.7', 'V': '1.0'}] |\n",
    "|    Name_source |                      O.70V |\n",
    "\n",
    "\n",
    "\n",
    "Sometimes, the ChemDataExtractor is unable to recognise certain acronyms/abbreviations. These acronyms were either ignored or wrongly regarded as regular formulas. \n",
    "\n",
    "\n",
    "As mentioned in section 2, battery components might be missing due to the ChemDataExtractor's inability to recognise dashes as a separator for heterojunctions. We were able to correct 3569 outof 5974 formulas that might contain heterojunctions, but the remaining 2405 datapoints still have missing components. We recommend that these be dropped.\n",
    "\n",
    "\n",
    "| heterojunction | heterojunction_unresolved | Count  |\n",
    "|---------------:|--------------------------:|-------:|\n",
    "|              0 |                         0 | 260493 |\n",
    "|              1 |                         0 |   3569 |\n",
    "|              1 |                         1 |   2405 |\n",
    "\n",
    "\n",
    "Finally, we recomed you validate formulas against Name_extracted if feasible.\n",
    "\n",
    "\n",
    "### 3.4 Coefficient-based data pruning\n",
    "\n",
    "An effective and automatic way to prune away ridiculous formulas, that is, formulas with abnormally high coefficients. For example:\n",
    "\n",
    "$N1237.4153$\n",
    "\n",
    "$NSC1000$\n",
    "\n",
    "$CoIn2S4311$\n",
    "\n",
    "If the max coefficient threshold is set to be 100, 986 datapoints will be further pruned. \n",
    "\n",
    "### 3.5 Dealing with acronyms\n",
    "\n",
    "\n",
    "Acronyms of chemicals can sometimes get interpreted as literal chemical formulas. For example: \n",
    "\n",
    "- Carbon Nano Fibre -> CNF\n",
    "- Hexacyanoferrate -> HCF\n",
    "- CoFe2O4 -> CFO\n",
    "\n",
    "These acronyms, along with other misrepresented formulas, should be corrected or pruned. \n",
    "\n",
    "We identified 10725 such instaces in the dataset pruned using the method in 3.4.  \n",
    "\n",
    "\n",
    "### 3.6 Formula encoding\n",
    "\n",
    "\n",
    "This is the most important step before machine learning. Given a list of chemical formulas (as strings), how would you encode it in a ML-compatible way? \n",
    "\n",
    "\n",
    "We have prepared a periodic table for atom-wise mapping, but in the end the choice is yours. \n"
   ]
  },
  {
   "cell_type": "markdown",
   "id": "bd2ecce8",
   "metadata": {},
   "source": [
    "# The Code\n",
    "\n",
    "All changes are reflected in the code except for a few manual corrections recorded in a csv file. \n",
    "\n",
    "With the original dataset and the correction file one would be able to reproduce the result (assuming the ase python module has already been installed)"
   ]
  },
  {
   "cell_type": "code",
   "execution_count": 1,
   "id": "aa7773b7",
   "metadata": {},
   "outputs": [],
   "source": [
    "import pandas as pd\n",
    "import ast\n",
    "from multiprocessing import Pool\n",
    "import numpy as np\n",
    "from ase.formula import Formula  # used as formula validator for heterojunctions\n",
    "from chemparse import parse_formula # for coefficient pruning"
   ]
  },
  {
   "cell_type": "markdown",
   "id": "919adf20",
   "metadata": {},
   "source": [
    "## Step 1 - Data Formatting \n",
    "To format the data so that it is ML friendly and ready for preprocessing. Including:\n",
    "- the deletion of useless columns\n",
    "- the expansion and/or merging of certain columns (e.g. from property type column + property value column to multiple property-value columns)\n",
    "- reindexation so that related datapoints are adjacent\n",
    "- generating the string representation of the formulas, raising formula warning flags in the process.\n",
    "- merging equivalent specifiers (e.g. capitalised and uncapitalised words)"
   ]
  },
  {
   "cell_type": "markdown",
   "id": "2761b1f5",
   "metadata": {},
   "source": [
    "----\n",
    "**read files, extract features**\n",
    "\n",
    "----"
   ]
  },
  {
   "cell_type": "code",
   "execution_count": 2,
   "id": "d621d448",
   "metadata": {},
   "outputs": [],
   "source": [
    "df = pd.read_csv('battery.csv', low_memory = False)\n",
    "df = df.sort_values(by = ['DOI', 'Name', 'Property', 'Value'])\n",
    "df.reset_index(drop = True, inplace = True)\n"
   ]
  },
  {
   "cell_type": "code",
   "execution_count": 3,
   "id": "1f6c327b",
   "metadata": {},
   "outputs": [],
   "source": [
    "def to_number(s):\n",
    "    try:\n",
    "        f = float(s)\n",
    "        return f\n",
    "    except ValueError:\n",
    "        return s\n",
    "\n",
    "# transform\n",
    "\n",
    "features_kept = [c for c in df if c not in [ 'Value', 'Unit', 'Raw_value', 'Raw_unit']]\n",
    "def extract_features(dp):\n",
    "    local_dict = dp[features_kept].to_dict()\n",
    "    if dp['Property'] == 'Capacity':\n",
    "        local_dict[dp['Property'] + '/'+ 'Gram^(-1.0)  Hour^(1.0)  MilliAmpere^(1.0)'.replace(' ', '_')] = dp['Value']\n",
    "        if dp['Info'] != 'None':\n",
    "            info = ast.literal_eval(dp['Info'])\n",
    "            if 'cycle_value' in info.keys():\n",
    "                local_dict['Cycles'] = info['cycle_value']\n",
    "            if 'current_units' in info.keys():\n",
    "                if info['current_units'] in {'C', 'c'}:\n",
    "                    local_dict['Current/C'] = info['current_value']\n",
    "                elif info['current_units'] in {'Ag−1','A/g', 'Ag-1'}:\n",
    "                    eval_ = to_number(info['current_value'])\n",
    "                    if type(eval_) == float:\n",
    "                        local_dict['Current/mAg^(-1)'] =  eval_ * 1000\n",
    "                    else:\n",
    "                        local_dict['Current/mAg^(-1)'] =  eval_ + '*1000'\n",
    "                else:\n",
    "                    local_dict['Current/mAg^(-1)'] = info['current_value'] \n",
    "    else:\n",
    "        local_dict[dp['Property'] + '/'+ dp['Unit'].replace(' ', '_')] = dp['Value']\n",
    "    return local_dict\n",
    "\n",
    "with Pool(12) as p:    \n",
    "    result = p.map (extract_features, [row[1] for row in df.iterrows()])\n",
    "\n",
    "battery = pd.DataFrame(result)\n"
   ]
  },
  {
   "cell_type": "code",
   "execution_count": 4,
   "id": "7a0db371",
   "metadata": {},
   "outputs": [],
   "source": [
    "battery.drop(index = df[df['Tag'] == 'Calculated'].index, inplace = True)\n",
    "battery.drop(columns = ['Correctness', 'Journal', 'Title','Tag', 'Info'], inplace = True)\n",
    "battery['Extracted_name'] = battery['Extracted_name'].apply(ast.literal_eval)"
   ]
  },
  {
   "cell_type": "markdown",
   "id": "feeb9755",
   "metadata": {},
   "source": [
    "----\n",
    "**get formulas, raise warnings**\n",
    "\n",
    "----"
   ]
  },
  {
   "cell_type": "code",
   "execution_count": 5,
   "id": "43e36eb6",
   "metadata": {},
   "outputs": [],
   "source": [
    "# deal with a single formula, raise irregular flag if coefficients aren't numbers\n",
    "def get_formula(d):\n",
    "    acc = []\n",
    "    ireg_flag = 0\n",
    "    coef_flag = 0\n",
    "    for k, v in d.items():\n",
    "        try:\n",
    "            e = float(v) # cast to float, handel error\n",
    "            e = int(e) if e.is_integer() else e # cast to int if applicable\n",
    "            if e >= 100 or e%10 == 0:\n",
    "                coef_flag = 1\n",
    "            acc.append(k + (str(e) if e!= 1 else ''))\n",
    "        except ValueError:\n",
    "            ireg_flag = 1\n",
    "            acc.append(k + v)\n",
    "    return ''.join(acc), ireg_flag, coef_flag\n",
    "\n",
    "# deal with multiple formula/extracted name, raise flag if irregular compositions\n",
    "def get_name(l):\n",
    "\n",
    "    result = list(map(get_formula, l))\n",
    "    return [x[0] for x in result], int(any([x[1] for x in result])), int(any([x[2] for x in result]))\n",
    "\n",
    "names = battery['Extracted_name'].apply(get_name)\n",
    "battery['Formulas'] = names.apply(lambda x: x[0])\n",
    "battery['Formulas_nonnumeric'] = names.apply(lambda x: x[1])\n",
    "battery['Formulas_coefficient_warning'] = names.apply(lambda x: x[2])\n",
    "                                       "
   ]
  },
  {
   "cell_type": "code",
   "execution_count": 6,
   "id": "ce4dad51",
   "metadata": {},
   "outputs": [
    {
     "data": {
      "text/plain": [
       "0    281574\n",
       "1      4021\n",
       "Name: Formulas_coefficient_warning, dtype: int64"
      ]
     },
     "execution_count": 6,
     "metadata": {},
     "output_type": "execute_result"
    }
   ],
   "source": [
    "battery['Formulas_coefficient_warning'].value_counts()"
   ]
  },
  {
   "cell_type": "code",
   "execution_count": 7,
   "id": "b2b1d67f",
   "metadata": {},
   "outputs": [
    {
     "data": {
      "text/plain": [
       "0    271053\n",
       "1     14542\n",
       "Name: Formulas_nonnumeric, dtype: int64"
      ]
     },
     "execution_count": 7,
     "metadata": {},
     "output_type": "execute_result"
    }
   ],
   "source": [
    "battery['Formulas_nonnumeric'].value_counts()"
   ]
  },
  {
   "cell_type": "markdown",
   "id": "89be74da",
   "metadata": {},
   "source": [
    "----\n",
    "**feature reordering, process specifier values**\n",
    "\n",
    "----"
   ]
  },
  {
   "cell_type": "code",
   "execution_count": 8,
   "id": "9cdb14a1",
   "metadata": {},
   "outputs": [],
   "source": [
    "order = ['Formulas', 'Formulas_nonnumeric', 'Formulas_coefficient_warning' \n",
    "         ,'Extracted_name', 'Name','DOI', 'Date'\n",
    "         ,'Warning', 'Type', 'Property', 'Specifier'\n",
    "         ,'Capacity/Gram^(-1.0)__Hour^(1.0)__MilliAmpere^(1.0)'\n",
    "         ,'Cycles','Current/C','Current/mAg^(-1)', 'Voltage/Volt^(1.0)'\n",
    "         ,'Coulombic Efficiency/Percent^(1.0)'\n",
    "         ,'Conductivity/CentiMeter^(-1.0)__Siemens^(1.0)'\n",
    "         ,'Energy/KiloGram^(-1.0)__WattHour^(1.0)']\n",
    "assert(len(order) == len(battery.columns))\n",
    "battery = battery[order]\n",
    "battery['Type'] = battery['Type'].replace('None', np.nan)\n",
    "\n",
    "battery['Specifier'] = battery['Specifier'].apply(str.lower)"
   ]
  },
  {
   "cell_type": "code",
   "execution_count": 9,
   "id": "a8f1d752",
   "metadata": {},
   "outputs": [],
   "source": [
    "merge_dict = {'discharge capacities' : 'discharge capacity',\n",
    "              'capacities' : 'capacity',\n",
    "              'reversible capacities' : 'reversible capacity',\n",
    "              'specific capacities' : 'specific capacity',\n",
    "              'charge capacities' : 'charge capacity',\n",
    "              'discharge specific capacities' : 'discharge specific capacity',\n",
    "              'charge and discharge capacities' : 'discharge and charge capacities',\n",
    "              'voltages' : 'voltage',\n",
    "              'reversible discharge capacities' : 'reversible discharge capacity',\n",
    "              'theoretical capacities' : 'theoretical capacity',\n",
    "              'discharge and charge capacity' : 'discharge and charge capacities',\n",
    "              'reversible specific capacities' : 'reversible specific capacity',\n",
    "              'charge and discharge capacity' : 'discharge and charge capacities',\n",
    "              'conductivities' : 'conductivity',\n",
    "              'reversible charge capacities' : 'reversible charge capacity',\n",
    "              'charge specific capacities' : 'charge specific capacity',\n",
    "              'charge and discharge specific capacities' : 'discharge and charge specific capacities',\n",
    "              'energies' : 'energy',\n",
    "              'discharge and charge specific capacity': 'discharge and charge specific capacities',\n",
    "              'reversible discharge specific capacities' : 'reversible discharge specific capacity',\n",
    "              'electrical conductivities' : 'electrical conductivity',\n",
    "              'reversible charge specific capacities' : 'reversible charge specific capacity',\n",
    "              'charge and discharge specific capacity' : 'discharge and charge specific capacities',\n",
    "              'electronic conductivities' : 'electronic conductivity',\n",
    "              'reversible charge and discharge capacity' : 'reversible discharge and charge capacities',\n",
    "              'reversible theoretical capacities' : 'reversible theoretical capacity',\n",
    "              'coulombic efficiencies' : 'coulombic effciency'\n",
    "              \n",
    "             }\n",
    "\n",
    "battery['Specifier'] = battery['Specifier'].apply(lambda x : merge_dict[x] if x in merge_dict.keys() else x)\n",
    "battery['Specifier'] = battery.Specifier.replace('none', np.nan)\n",
    "battery.rename(columns = {'Current/C' : 'Current/C_rate'}, inplace = True)"
   ]
  },
  {
   "cell_type": "markdown",
   "id": "c9879bc5",
   "metadata": {},
   "source": [
    "\n",
    "## Step 2 -- Finer Feature Processing\n",
    "including:\n",
    "- one hot encoding of capacity-related Specifiers\n",
    "- extract numeric current values and add as few features\n"
   ]
  },
  {
   "cell_type": "markdown",
   "id": "913fa171",
   "metadata": {},
   "source": [
    "----\n",
    "**one hot encoding**\n",
    "\n",
    "----"
   ]
  },
  {
   "cell_type": "code",
   "execution_count": 10,
   "id": "d0af6609",
   "metadata": {},
   "outputs": [],
   "source": [
    "for spec in ['discharge', 'charge', 'reversible', 'specific', 'theoretical']:\n",
    "    battery['Capacity_is_'+ spec] = battery['Specifier'].apply(lambda x : 0 if type(x) != str else (1 if spec in x.split() else 0))"
   ]
  },
  {
   "cell_type": "markdown",
   "id": "7eae5f8f",
   "metadata": {},
   "source": [
    "----\n",
    "**dealing with current**\n",
    "\n",
    "----"
   ]
  },
  {
   "cell_type": "code",
   "execution_count": 11,
   "id": "231cc463",
   "metadata": {},
   "outputs": [],
   "source": [
    "cs  = battery[[c for c in battery.columns if c[:7] == 'Current']]"
   ]
  },
  {
   "cell_type": "code",
   "execution_count": 12,
   "id": "6a6bc71f",
   "metadata": {},
   "outputs": [
    {
     "data": {
      "text/plain": [
       "<class 'float'>    13209\n",
       "<class 'str'>       4106\n",
       "Name: Current/C_rate, dtype: int64"
      ]
     },
     "execution_count": 12,
     "metadata": {},
     "output_type": "execute_result"
    }
   ],
   "source": [
    "c_rate = cs['Current/C_rate'].apply(lambda x : to_number(x) if pd.notna(x) else x)\n",
    "c_rate[pd.notna(c_rate)].apply(type).value_counts()"
   ]
  },
  {
   "cell_type": "code",
   "execution_count": 13,
   "id": "56ab74bf",
   "metadata": {},
   "outputs": [
    {
     "data": {
      "text/plain": [
       "<class 'float'>    14098\n",
       "<class 'str'>       7915\n",
       "Name: Current/mAg^(-1), dtype: int64"
      ]
     },
     "execution_count": 13,
     "metadata": {},
     "output_type": "execute_result"
    }
   ],
   "source": [
    "c_a = cs['Current/mAg^(-1)'].apply(lambda x : to_number(x) if pd.notna(x) else x)\n",
    "c_a[pd.notna(c_a)].apply(type).value_counts()"
   ]
  },
  {
   "cell_type": "code",
   "execution_count": 14,
   "id": "35c26591",
   "metadata": {},
   "outputs": [],
   "source": [
    "battery.rename(columns = {'Current/C_rate' : 'Current_original/C_rate',\n",
    "                         'Current/mAg^(-1)' : 'Current_original/mAg^(-1)'}, inplace = True)\n",
    "\n",
    "battery['Current/mAg^(-1)'] = c_a.apply(lambda x: np.nan if type(x) == str else x )\n",
    "battery['Current/C_rate'] = c_rate.apply(lambda x: np.nan if type(x) == str else x )"
   ]
  },
  {
   "cell_type": "code",
   "execution_count": 15,
   "id": "750d4336",
   "metadata": {},
   "outputs": [],
   "source": [
    "order = ['Formulas', 'Formulas_nonnumeric', 'Formulas_coefficient_warning' \n",
    "         ,'Extracted_name', 'Name','DOI', 'Date'\n",
    "         ,'Warning', 'Type', 'Property', 'Specifier'\n",
    "         ,'Capacity_is_discharge', 'Capacity_is_charge', 'Capacity_is_reversible'\n",
    "         , 'Capacity_is_specific', 'Capacity_is_theoretical'\n",
    "         ,'Capacity/Gram^(-1.0)__Hour^(1.0)__MilliAmpere^(1.0)'\n",
    "         ,'Cycles', 'Current/C_rate', 'Current_original/C_rate', 'Current/mAg^(-1)'\n",
    "         ,'Current_original/mAg^(-1)' , 'Voltage/Volt^(1.0)'\n",
    "         ,'Coulombic Efficiency/Percent^(1.0)'\n",
    "         ,'Conductivity/CentiMeter^(-1.0)__Siemens^(1.0)'\n",
    "         ,'Energy/KiloGram^(-1.0)__WattHour^(1.0)']\n",
    "assert(len(order) == len(battery.columns))\n",
    "battery = battery[order]"
   ]
  },
  {
   "cell_type": "markdown",
   "id": "736838a0",
   "metadata": {},
   "source": [
    "## Step 3 -- Dealing with Errorneous Formulas\n",
    "\n",
    "including:\n",
    "- manual corrections that focus on datapoints with formula coefficient warning (potential O-> 0 confusion, where Oxygen is encoded as a zero)\n",
    "- dropping datapoints whose formulas have non-numeric coefficients\n",
    "- correction of errorneous patterns\n",
    "- drop datapoints that are ions as the ChemDataExtractor was unable to give correct formulas \n",
    "- restore missing components for some of the datapoints that have dashes (–) in its original name / name recorded by the original paper\n",
    "\n",
    "optional steps:\n",
    "\n",
    "- pruning formulas with abnormaly large coefficients \n",
    "- pruning acronyms and misrepresented formulas"
   ]
  },
  {
   "cell_type": "markdown",
   "id": "395e392a",
   "metadata": {},
   "source": [
    "----\n",
    "**merge corrections**\n",
    "\n",
    "----"
   ]
  },
  {
   "cell_type": "code",
   "execution_count": 16,
   "id": "6168a711",
   "metadata": {},
   "outputs": [],
   "source": [
    "corrections = pd.read_csv('battery#2_partially_corrected.csv', low_memory=False)"
   ]
  },
  {
   "cell_type": "code",
   "execution_count": 17,
   "id": "81a47732",
   "metadata": {},
   "outputs": [],
   "source": [
    "battery['Formulas'] = corrections['Formulas']\n",
    "battery['Formulas_nonnumeric'] = corrections['Formulas_nonnumeric']"
   ]
  },
  {
   "cell_type": "code",
   "execution_count": 18,
   "id": "b19bc844",
   "metadata": {},
   "outputs": [],
   "source": [
    "battery['Formulas'] = battery['Formulas'].apply(ast.literal_eval)\n",
    "# battery['Extracted_name'] = battery['Extracted_name'].apply(ast.literal_eval)"
   ]
  },
  {
   "cell_type": "markdown",
   "id": "d4567c7c",
   "metadata": {},
   "source": [
    "----\n",
    "**drop datapoints with non-numeric coefficients**\n",
    "\n",
    "----"
   ]
  },
  {
   "cell_type": "code",
   "execution_count": 19,
   "id": "c8a725bf",
   "metadata": {},
   "outputs": [],
   "source": [
    "# drop non- numeric coefficients\n",
    "battery.drop (index = battery[battery.Formulas_nonnumeric ==1].index, inplace = True\n",
    ")"
   ]
  },
  {
   "cell_type": "markdown",
   "id": "d81c642a",
   "metadata": {},
   "source": [
    "----\n",
    "**pattern matching errors**\n",
    "\n",
    "----"
   ]
  },
  {
   "cell_type": "code",
   "execution_count": 20,
   "id": "3494b171",
   "metadata": {},
   "outputs": [],
   "source": [
    "def find_datapoints_with_substrings(df, strings):\n",
    "    return df[df.Formulas.apply(lambda x: any([any([typo in elem for typo in strings]) for elem in x]))]\n",
    "\n",
    "def replace_substrings(df, old, new):\n",
    "    return df.Formulas.apply(lambda x: [elem.replace(old, new) for elem in x])\n"
   ]
  },
  {
   "cell_type": "code",
   "execution_count": 21,
   "id": "584f517a",
   "metadata": {},
   "outputs": [],
   "source": [
    "# correcting O \n",
    "battery['Formulas'] = replace_substrings(battery, 'C104', 'ClO4')\n",
    "battery['Formulas'] = replace_substrings(battery, 'Hg0', 'HgO')\n",
    "battery['Formulas'] = replace_substrings(battery, 'Si0O', 'SiO')\n",
    "battery['Formulas'] = replace_substrings(battery, 'Si0P', 'SiP')\n",
    "battery['Formulas'] = replace_substrings(battery, 'CIO4', 'ClO4')\n",
    "battery['Formulas'] = replace_substrings(battery, 'CIO', 'ClO')"
   ]
  },
  {
   "cell_type": "markdown",
   "id": "db5c7447",
   "metadata": {},
   "source": [
    "----\n",
    "**dropping ions**\n",
    "\n",
    "----"
   ]
  },
  {
   "cell_type": "code",
   "execution_count": 22,
   "id": "81f0aef9",
   "metadata": {},
   "outputs": [],
   "source": [
    "# drop ions according to Name \n",
    "ions_1_indies = battery[battery.Name.apply(lambda x: any([c in x for c in ['(II)', '(III)', '(I)', '(IV)', '(V)', '(VI)', '(VII)']]))].index\n",
    "ions_2_indies = battery[battery.Name.apply(lambda x: any([c in x for c in ['+ /']]))].index\n",
    "battery.drop (index = ions_1_indies, inplace=True)\n",
    "battery.drop (index = ions_2_indies, inplace=True)"
   ]
  },
  {
   "cell_type": "code",
   "execution_count": 23,
   "id": "bab5ddde",
   "metadata": {},
   "outputs": [],
   "source": [
    "# drop C0 - misc error\n",
    "idx = battery[battery.Formulas.apply(lambda x: any([ elem == 'C0' for elem in x]))].index\n",
    "battery.drop(index = idx, inplace = True)"
   ]
  },
  {
   "cell_type": "code",
   "execution_count": 24,
   "id": "a04f7d0c",
   "metadata": {},
   "outputs": [],
   "source": [
    "battery.drop(columns = ['Formulas_nonnumeric', 'Formulas_coefficient_warning'], inplace=True)\n",
    "battery.rename(columns={'Name' : 'Name_source', 'Extracted_name' : 'Name_extracted'}, inplace = True)"
   ]
  },
  {
   "cell_type": "markdown",
   "id": "0f2970ff",
   "metadata": {},
   "source": [
    "---\n",
    "**dealing with dashes/ heterojunctions**\n",
    " \n",
    "---"
   ]
  },
  {
   "cell_type": "code",
   "execution_count": 25,
   "id": "de9dd092",
   "metadata": {},
   "outputs": [],
   "source": [
    "battery['heterojunction'] = battery.Name_source.apply(lambda x: 1 if any([c in x for c in ['–']]) else 0)\n",
    "order = list(battery.columns)[:3] + ['heterojunction'] + list(battery.columns)[3:len(battery.columns)-1]\n",
    "battery = battery[order]\n",
    "hjs = battery[battery.heterojunction == 1][['Formulas', 'Name_source']]"
   ]
  },
  {
   "cell_type": "code",
   "execution_count": 26,
   "id": "70da6fbd",
   "metadata": {},
   "outputs": [],
   "source": [
    "# see what simple splits can do\n",
    "\n",
    "hjs['split'] = hjs.Name_source.apply(lambda x : [elem.strip() for elem in x.split('–')])\n",
    "\n",
    "def check_split(split):\n",
    "    is_valid = []\n",
    "    for string in split:\n",
    "        try:\n",
    "            f = Formula(string, strict = True)\n",
    "            is_valid.append(True)\n",
    "        except ValueError:\n",
    "            is_valid.append(False)\n",
    "    return is_valid        \n",
    "\n",
    "hjs['valid_formulas'] = hjs.split.apply(check_split)\n",
    "hjs['valid_split'] = hjs.valid_formulas.apply(all)"
   ]
  },
  {
   "cell_type": "code",
   "execution_count": 27,
   "id": "72872bf2",
   "metadata": {},
   "outputs": [
    {
     "data": {
      "text/plain": [
       "False    3244\n",
       "True     2730\n",
       "Name: valid_split, dtype: int64"
      ]
     },
     "execution_count": 27,
     "metadata": {},
     "output_type": "execute_result"
    }
   ],
   "source": [
    "# 2730 instances corrected\n",
    "hjs.valid_split.value_counts()"
   ]
  },
  {
   "cell_type": "code",
   "execution_count": 28,
   "id": "ab690fe0",
   "metadata": {},
   "outputs": [],
   "source": [
    "# correct the instances in the original dataframe\n",
    "\n",
    "corrected = battery.apply(lambda x : hjs['split'][x.name] \n",
    "                          if (x.heterojunction == 1) and \n",
    "                          (hjs['valid_split'][x.name] == True) else x.Formulas, axis = 1)\n",
    "battery['Formulas'] = corrected"
   ]
  },
  {
   "cell_type": "code",
   "execution_count": 29,
   "id": "8686153d",
   "metadata": {},
   "outputs": [],
   "source": [
    "# for uncorrected instances\n",
    "hjs = hjs[hjs.valid_split == False]\n",
    "# split with @, // ,/\n",
    "for sep in ['@', '//', '/']:\n",
    "    new = hjs.split.apply(lambda x : [val.strip() for sublist in [elem.split(sep) for elem in x] for val in sublist])\n",
    "    hjs['split'] = new\n",
    "hjs['valid_formulas'] = hjs.split.apply(check_split)\n",
    "hjs['valid_split'] = hjs.valid_formulas.apply(all)"
   ]
  },
  {
   "cell_type": "code",
   "execution_count": 30,
   "id": "11f34287",
   "metadata": {},
   "outputs": [
    {
     "data": {
      "text/plain": [
       "False    2405\n",
       "True      839\n",
       "Name: valid_split, dtype: int64"
      ]
     },
     "execution_count": 30,
     "metadata": {},
     "output_type": "execute_result"
    }
   ],
   "source": [
    "# 839 instances corrected\n",
    "hjs.valid_split.value_counts()"
   ]
  },
  {
   "cell_type": "code",
   "execution_count": 31,
   "id": "c4ae5382",
   "metadata": {},
   "outputs": [],
   "source": [
    "# correrct formulas for CNTs (Carbon Nanotubes)\n",
    "hjs['split'] = hjs.split.apply(lambda x : ['C' if f == 'CNTs' else f for f in x])"
   ]
  },
  {
   "cell_type": "code",
   "execution_count": 32,
   "id": "a0c11b25",
   "metadata": {},
   "outputs": [],
   "source": [
    "# correct the instances in the original dataframe\n",
    "\n",
    "corrected = battery.apply(lambda x : hjs['split'][x.name] \n",
    "                          if (x.name in hjs.index) and \n",
    "                          (hjs['valid_split'][x.name] == True) else x.Formulas, axis = 1)\n",
    "battery['Formulas'] = corrected"
   ]
  },
  {
   "cell_type": "code",
   "execution_count": 33,
   "id": "eeba8ab6",
   "metadata": {},
   "outputs": [],
   "source": [
    "# mark unresolved instances in the original dataframe\n",
    "hjs = hjs[hjs.valid_split == False]\n",
    "battery['heterojunction_unresolved'] = battery.apply(lambda x : 1 if x.name in hjs.index else 0,axis = 1)"
   ]
  },
  {
   "cell_type": "code",
   "execution_count": 34,
   "id": "ce1a9db5",
   "metadata": {},
   "outputs": [],
   "source": [
    "order = list(battery.columns[:4]) + list(battery.columns[-1:] )+ list(battery.columns[4:-1])\n",
    "battery = battery[order]"
   ]
  },
  {
   "cell_type": "code",
   "execution_count": 35,
   "id": "83d839dc",
   "metadata": {},
   "outputs": [
    {
     "data": {
      "text/plain": [
       "0    264062\n",
       "1      2405\n",
       "Name: heterojunction_unresolved, dtype: int64"
      ]
     },
     "execution_count": 35,
     "metadata": {},
     "output_type": "execute_result"
    }
   ],
   "source": [
    "battery.heterojunction_unresolved.value_counts()"
   ]
  },
  {
   "cell_type": "code",
   "execution_count": 36,
   "id": "7f649be4",
   "metadata": {},
   "outputs": [
    {
     "data": {
      "text/plain": [
       "0    260493\n",
       "1      5974\n",
       "Name: heterojunction, dtype: int64"
      ]
     },
     "execution_count": 36,
     "metadata": {},
     "output_type": "execute_result"
    }
   ],
   "source": [
    "battery.heterojunction.value_counts()"
   ]
  },
  {
   "cell_type": "code",
   "execution_count": 37,
   "id": "9638bd5c",
   "metadata": {},
   "outputs": [],
   "source": [
    "battery['Warning'] = battery.Warning.replace ('None', np.nan)"
   ]
  },
  {
   "cell_type": "code",
   "execution_count": 38,
   "id": "f87d6abc",
   "metadata": {},
   "outputs": [
    {
     "data": {
      "text/html": [
       "<div>\n",
       "<style scoped>\n",
       "    .dataframe tbody tr th:only-of-type {\n",
       "        vertical-align: middle;\n",
       "    }\n",
       "\n",
       "    .dataframe tbody tr th {\n",
       "        vertical-align: top;\n",
       "    }\n",
       "\n",
       "    .dataframe thead th {\n",
       "        text-align: right;\n",
       "    }\n",
       "</style>\n",
       "<table border=\"1\" class=\"dataframe\">\n",
       "  <thead>\n",
       "    <tr style=\"text-align: right;\">\n",
       "      <th></th>\n",
       "      <th>heterojunction</th>\n",
       "      <th>heterojunction_unresolved</th>\n",
       "      <th>Capacity_is_discharge</th>\n",
       "      <th>Capacity_is_charge</th>\n",
       "      <th>Capacity_is_reversible</th>\n",
       "      <th>Capacity_is_specific</th>\n",
       "      <th>Capacity_is_theoretical</th>\n",
       "      <th>Capacity/Gram^(-1.0)__Hour^(1.0)__MilliAmpere^(1.0)</th>\n",
       "      <th>Current/C_rate</th>\n",
       "      <th>Current/mAg^(-1)</th>\n",
       "      <th>Voltage/Volt^(1.0)</th>\n",
       "      <th>Coulombic Efficiency/Percent^(1.0)</th>\n",
       "      <th>Conductivity/CentiMeter^(-1.0)__Siemens^(1.0)</th>\n",
       "      <th>Energy/KiloGram^(-1.0)__WattHour^(1.0)</th>\n",
       "    </tr>\n",
       "  </thead>\n",
       "  <tbody>\n",
       "    <tr>\n",
       "      <th>count</th>\n",
       "      <td>266467.000000</td>\n",
       "      <td>266467.000000</td>\n",
       "      <td>266467.000000</td>\n",
       "      <td>266467.000000</td>\n",
       "      <td>266467.000000</td>\n",
       "      <td>266467.000000</td>\n",
       "      <td>266467.000000</td>\n",
       "      <td>137532.000000</td>\n",
       "      <td>12772.000000</td>\n",
       "      <td>1.351400e+04</td>\n",
       "      <td>103346.000000</td>\n",
       "      <td>10429.000000</td>\n",
       "      <td>6635.000000</td>\n",
       "      <td>8525.000000</td>\n",
       "    </tr>\n",
       "    <tr>\n",
       "      <th>mean</th>\n",
       "      <td>0.022419</td>\n",
       "      <td>0.009026</td>\n",
       "      <td>0.137353</td>\n",
       "      <td>0.033107</td>\n",
       "      <td>0.062683</td>\n",
       "      <td>0.050565</td>\n",
       "      <td>0.023496</td>\n",
       "      <td>466.437549</td>\n",
       "      <td>6.903120</td>\n",
       "      <td>1.258655e+03</td>\n",
       "      <td>1.808738</td>\n",
       "      <td>80.628052</td>\n",
       "      <td>1.213458</td>\n",
       "      <td>218.796109</td>\n",
       "    </tr>\n",
       "    <tr>\n",
       "      <th>std</th>\n",
       "      <td>0.148043</td>\n",
       "      <td>0.094573</td>\n",
       "      <td>0.344220</td>\n",
       "      <td>0.178917</td>\n",
       "      <td>0.242393</td>\n",
       "      <td>0.219109</td>\n",
       "      <td>0.151474</td>\n",
       "      <td>494.586128</td>\n",
       "      <td>53.653167</td>\n",
       "      <td>1.502025e+04</td>\n",
       "      <td>1.500143</td>\n",
       "      <td>21.107194</td>\n",
       "      <td>7.529201</td>\n",
       "      <td>456.641344</td>\n",
       "    </tr>\n",
       "    <tr>\n",
       "      <th>min</th>\n",
       "      <td>0.000000</td>\n",
       "      <td>0.000000</td>\n",
       "      <td>0.000000</td>\n",
       "      <td>0.000000</td>\n",
       "      <td>0.000000</td>\n",
       "      <td>0.000000</td>\n",
       "      <td>0.000000</td>\n",
       "      <td>0.001300</td>\n",
       "      <td>0.005000</td>\n",
       "      <td>0.000000e+00</td>\n",
       "      <td>0.010100</td>\n",
       "      <td>0.001000</td>\n",
       "      <td>0.000000</td>\n",
       "      <td>0.010000</td>\n",
       "    </tr>\n",
       "    <tr>\n",
       "      <th>25%</th>\n",
       "      <td>0.000000</td>\n",
       "      <td>0.000000</td>\n",
       "      <td>0.000000</td>\n",
       "      <td>0.000000</td>\n",
       "      <td>0.000000</td>\n",
       "      <td>0.000000</td>\n",
       "      <td>0.000000</td>\n",
       "      <td>137.500000</td>\n",
       "      <td>0.100000</td>\n",
       "      <td>1.000000e+02</td>\n",
       "      <td>0.500000</td>\n",
       "      <td>68.900000</td>\n",
       "      <td>0.000002</td>\n",
       "      <td>20.000000</td>\n",
       "    </tr>\n",
       "    <tr>\n",
       "      <th>50%</th>\n",
       "      <td>0.000000</td>\n",
       "      <td>0.000000</td>\n",
       "      <td>0.000000</td>\n",
       "      <td>0.000000</td>\n",
       "      <td>0.000000</td>\n",
       "      <td>0.000000</td>\n",
       "      <td>0.000000</td>\n",
       "      <td>277.000000</td>\n",
       "      <td>1.000000</td>\n",
       "      <td>2.000000e+02</td>\n",
       "      <td>1.400000</td>\n",
       "      <td>88.000000</td>\n",
       "      <td>0.000300</td>\n",
       "      <td>42.000000</td>\n",
       "    </tr>\n",
       "    <tr>\n",
       "      <th>75%</th>\n",
       "      <td>0.000000</td>\n",
       "      <td>0.000000</td>\n",
       "      <td>0.000000</td>\n",
       "      <td>0.000000</td>\n",
       "      <td>0.000000</td>\n",
       "      <td>0.000000</td>\n",
       "      <td>0.000000</td>\n",
       "      <td>685.000000</td>\n",
       "      <td>4.500000</td>\n",
       "      <td>1.000000e+03</td>\n",
       "      <td>3.000000</td>\n",
       "      <td>98.000000</td>\n",
       "      <td>0.008000</td>\n",
       "      <td>197.000000</td>\n",
       "    </tr>\n",
       "    <tr>\n",
       "      <th>max</th>\n",
       "      <td>1.000000</td>\n",
       "      <td>1.000000</td>\n",
       "      <td>1.000000</td>\n",
       "      <td>1.000000</td>\n",
       "      <td>1.000000</td>\n",
       "      <td>1.000000</td>\n",
       "      <td>1.000000</td>\n",
       "      <td>4992.000000</td>\n",
       "      <td>3600.000000</td>\n",
       "      <td>1.680000e+06</td>\n",
       "      <td>6.960000</td>\n",
       "      <td>100.000000</td>\n",
       "      <td>100.000000</td>\n",
       "      <td>4900.000000</td>\n",
       "    </tr>\n",
       "  </tbody>\n",
       "</table>\n",
       "</div>"
      ],
      "text/plain": [
       "       heterojunction  heterojunction_unresolved  Capacity_is_discharge  \\\n",
       "count   266467.000000              266467.000000          266467.000000   \n",
       "mean         0.022419                   0.009026               0.137353   \n",
       "std          0.148043                   0.094573               0.344220   \n",
       "min          0.000000                   0.000000               0.000000   \n",
       "25%          0.000000                   0.000000               0.000000   \n",
       "50%          0.000000                   0.000000               0.000000   \n",
       "75%          0.000000                   0.000000               0.000000   \n",
       "max          1.000000                   1.000000               1.000000   \n",
       "\n",
       "       Capacity_is_charge  Capacity_is_reversible  Capacity_is_specific  \\\n",
       "count       266467.000000           266467.000000         266467.000000   \n",
       "mean             0.033107                0.062683              0.050565   \n",
       "std              0.178917                0.242393              0.219109   \n",
       "min              0.000000                0.000000              0.000000   \n",
       "25%              0.000000                0.000000              0.000000   \n",
       "50%              0.000000                0.000000              0.000000   \n",
       "75%              0.000000                0.000000              0.000000   \n",
       "max              1.000000                1.000000              1.000000   \n",
       "\n",
       "       Capacity_is_theoretical  \\\n",
       "count            266467.000000   \n",
       "mean                  0.023496   \n",
       "std                   0.151474   \n",
       "min                   0.000000   \n",
       "25%                   0.000000   \n",
       "50%                   0.000000   \n",
       "75%                   0.000000   \n",
       "max                   1.000000   \n",
       "\n",
       "       Capacity/Gram^(-1.0)__Hour^(1.0)__MilliAmpere^(1.0)  Current/C_rate  \\\n",
       "count                                      137532.000000      12772.000000   \n",
       "mean                                          466.437549          6.903120   \n",
       "std                                           494.586128         53.653167   \n",
       "min                                             0.001300          0.005000   \n",
       "25%                                           137.500000          0.100000   \n",
       "50%                                           277.000000          1.000000   \n",
       "75%                                           685.000000          4.500000   \n",
       "max                                          4992.000000       3600.000000   \n",
       "\n",
       "       Current/mAg^(-1)  Voltage/Volt^(1.0)  \\\n",
       "count      1.351400e+04       103346.000000   \n",
       "mean       1.258655e+03            1.808738   \n",
       "std        1.502025e+04            1.500143   \n",
       "min        0.000000e+00            0.010100   \n",
       "25%        1.000000e+02            0.500000   \n",
       "50%        2.000000e+02            1.400000   \n",
       "75%        1.000000e+03            3.000000   \n",
       "max        1.680000e+06            6.960000   \n",
       "\n",
       "       Coulombic Efficiency/Percent^(1.0)  \\\n",
       "count                        10429.000000   \n",
       "mean                            80.628052   \n",
       "std                             21.107194   \n",
       "min                              0.001000   \n",
       "25%                             68.900000   \n",
       "50%                             88.000000   \n",
       "75%                             98.000000   \n",
       "max                            100.000000   \n",
       "\n",
       "       Conductivity/CentiMeter^(-1.0)__Siemens^(1.0)  \\\n",
       "count                                    6635.000000   \n",
       "mean                                        1.213458   \n",
       "std                                         7.529201   \n",
       "min                                         0.000000   \n",
       "25%                                         0.000002   \n",
       "50%                                         0.000300   \n",
       "75%                                         0.008000   \n",
       "max                                       100.000000   \n",
       "\n",
       "       Energy/KiloGram^(-1.0)__WattHour^(1.0)  \n",
       "count                             8525.000000  \n",
       "mean                               218.796109  \n",
       "std                                456.641344  \n",
       "min                                  0.010000  \n",
       "25%                                 20.000000  \n",
       "50%                                 42.000000  \n",
       "75%                                197.000000  \n",
       "max                               4900.000000  "
      ]
     },
     "execution_count": 38,
     "metadata": {},
     "output_type": "execute_result"
    }
   ],
   "source": [
    "battery.describe()"
   ]
  },
  {
   "cell_type": "markdown",
   "id": "12e4dfe5",
   "metadata": {},
   "source": [
    "\n",
    "---\n",
    "**Optional: data pruning based on abnormal formula coeficients**\n",
    " \n",
    "---"
   ]
  },
  {
   "cell_type": "code",
   "execution_count": 39,
   "id": "f9a990c6",
   "metadata": {},
   "outputs": [],
   "source": [
    "batteries = pd.read_csv('battery_clean.csv')"
   ]
  },
  {
   "cell_type": "code",
   "execution_count": 40,
   "id": "ad379847",
   "metadata": {},
   "outputs": [],
   "source": [
    "formulas = batteries.Formulas.apply(ast.literal_eval) \n",
    "formulas = formulas.apply(lambda x:[x] if type(x)==str else x)\n",
    "formulas_df =  pd.DataFrame([(f,i)  for i,fs in formulas.to_dict().items() for f in fs])\n",
    "max_coeff = formulas_df[0].apply(lambda x: max(parse_formula(x).values()))"
   ]
  },
  {
   "cell_type": "code",
   "execution_count": 41,
   "id": "0e21a3d1",
   "metadata": {},
   "outputs": [
    {
     "data": {
      "text/plain": [
       "<AxesSubplot:>"
      ]
     },
     "execution_count": 41,
     "metadata": {},
     "output_type": "execute_result"
    },
    {
     "data": {
      "image/png": "[encoded data removed]",
      "text/plain": [
       "<Figure size 432x288 with 1 Axes>"
      ]
     },
     "metadata": {
      "needs_background": "light"
     },
     "output_type": "display_data"
    }
   ],
   "source": [
    "# distribution of max coefficient before pruning\n",
    "max_coeff.plot(kind = 'box')"
   ]
  },
  {
   "cell_type": "code",
   "execution_count": 42,
   "id": "c2c9de5b",
   "metadata": {},
   "outputs": [],
   "source": [
    "# identify formulas with coefficients larger than 100 as errors\n",
    "# modify the threhold at your will\n",
    "threshold = 100 "
   ]
  },
  {
   "cell_type": "code",
   "execution_count": 43,
   "id": "7bbe64ef",
   "metadata": {},
   "outputs": [
    {
     "name": "stdout",
     "output_type": "stream",
     "text": [
      "remove 986 datapoints\n"
     ]
    }
   ],
   "source": [
    "index_to_remove = formulas_df[max_coeff > threshold][1].values.tolist()\n",
    "index_to_remove = list(set(index_to_remove))\n",
    "print('remove',len(index_to_remove), 'datapoints')"
   ]
  },
  {
   "cell_type": "code",
   "execution_count": 44,
   "id": "6433e537",
   "metadata": {},
   "outputs": [],
   "source": [
    "# prune and save\n",
    "batteries.drop(index=index_to_remove, inplace=True)\n",
    "batteries.to_csv('batteries_further_cleaned.csv', index = False)"
   ]
  },
  {
   "cell_type": "code",
   "execution_count": 45,
   "id": "d207c6fc",
   "metadata": {},
   "outputs": [
    {
     "data": {
      "text/plain": [
       "<AxesSubplot:>"
      ]
     },
     "execution_count": 45,
     "metadata": {},
     "output_type": "execute_result"
    },
    {
     "data": {
      "image/png": "[encoded data removed]",
      "text/plain": [
       "<Figure size 432x288 with 1 Axes>"
      ]
     },
     "metadata": {
      "needs_background": "light"
     },
     "output_type": "display_data"
    }
   ],
   "source": [
    "# distribution of max coefficient after pruning\n",
    "formulas = batteries.Formulas.apply(ast.literal_eval)\n",
    "formulas = formulas.apply(lambda x:[x] if type(x)==str else x)\n",
    "formulas_df =  pd.DataFrame([(f,i)  for i,fs in formulas.to_dict().items() for f in fs])\n",
    "max_coeff = formulas_df[0].apply(lambda x: max(parse_formula(x).values()))\n",
    "max_coeff.plot(kind = 'box')"
   ]
  },
  {
   "cell_type": "markdown",
   "id": "3aac0b59",
   "metadata": {},
   "source": [
    "\n",
    "---\n",
    "**Optional: dropping incorrectly represented formulas**\n",
    " \n",
    "---\n",
    "\n",
    "To our knowledge, There has not been a reliable method to automatically identify \"unlikely\" formulas like acronyms and misrepresented formulas. Hence, we adopted a two-step semi-manual error-detection strategy to identify the misrepresented formulas:\n",
    "\n",
    "1. step one: Find unique instances (based on formulas, name source,and DOI) with potentially misrepresented formulas. \n",
    "2. step two: Idetify problematic formulas manually by marking a csv file of the potentially misrepresented instances:\n",
    "  - instances with correct formulas are unmarked\n",
    "  - instances that contain acronyms are marked **1**\n",
    "  - instances that contain other misrepresented formulas are marked **2**\n",
    "3. step three: For all instances marked problematic, remove them and any equivalent instances (again, based on formulas, name source,and DOI).\n",
    "\n",
    "The csv file is provided as misrepresented.csv\n"
   ]
  },
  {
   "cell_type": "code",
   "execution_count": 46,
   "id": "4a1cf102",
   "metadata": {},
   "outputs": [],
   "source": [
    "# read further cleaned dataset, get formulas\n",
    "batteries = pd.read_csv('batteries_further_cleaned.csv',index_col=0)\n",
    "formulas = batteries.Formulas.apply(ast.literal_eval) \n",
    "formulas = formulas.apply(lambda x:[x] if type(x)==str else x)\n"
   ]
  },
  {
   "cell_type": "code",
   "execution_count": 47,
   "id": "023e643b",
   "metadata": {},
   "outputs": [
    {
     "data": {
      "text/plain": [
       "False    183714\n",
       "True      81767\n",
       "Name: Formulas, dtype: int64"
      ]
     },
     "execution_count": 47,
     "metadata": {},
     "output_type": "execute_result"
    }
   ],
   "source": [
    "# formulas that might be misrepresented / acronyms\n",
    "\n",
    "# A formula is suspicious when \n",
    "# the avergae count for each element is below 1.5 \n",
    "# & the max count of elements is below 3 \n",
    "# &the number of elements below 6\n",
    "def is_sus(formula):\n",
    "    elem_dict = parse_formula(formula)\n",
    "    c1 = sum(elem_dict.values()) / len(elem_dict) < 1.5\n",
    "    c2 = max(elem_dict.values()) <= 3\n",
    "    c3 = len(elem_dict) < 6\n",
    "    return c1 & c2 & c3\n",
    "\n",
    "sus_ones = formulas.apply(lambda x: any([is_sus(f) for f in x]))\n",
    "sus_ones.value_counts()"
   ]
  },
  {
   "cell_type": "code",
   "execution_count": 48,
   "id": "0e5e8205",
   "metadata": {},
   "outputs": [
    {
     "name": "stdout",
     "output_type": "stream",
     "text": [
      "unique instances 29718\n"
     ]
    }
   ],
   "source": [
    "# take unique instances, and that reduces the number of \n",
    "# suspicious instances from 81767 to 29718\n",
    "\n",
    "sorted_batteries = batteries[sus_ones].sort_values(by=['Formulas','Name_source']).reset_index()\n",
    "sorted_batteries.index = sorted_batteries.iloc[:,0]\n",
    "uniques = sorted_batteries[['Unnamed: 0','Formulas','Name_source','DOI']].drop_duplicates(subset=['Formulas','Name_source','DOI'])\n",
    "# uniques.to_csv('misrepresented.csv', index=False)\n",
    "print('unique instances',len(uniques))"
   ]
  },
  {
   "cell_type": "markdown",
   "id": "70141a0f",
   "metadata": {},
   "source": [
    "\n",
    "**After the manual marking:**\n"
   ]
  },
  {
   "cell_type": "code",
   "execution_count": 49,
   "id": "d5c26376",
   "metadata": {},
   "outputs": [
    {
     "name": "stdout",
     "output_type": "stream",
     "text": [
      "number of problematic instances 10725\n"
     ]
    }
   ],
   "source": [
    "# get indicies of the problematic instances\n",
    "# read file\n",
    "marked = pd.read_csv('misrepresented.csv')\n",
    "bad_indicies_spotted = uniques[marked.Bad.values >0].iloc[:,0].values\n",
    "# get all equivalent ones\n",
    "bad_indicies = []\n",
    "for bad_i in bad_indicies_spotted:\n",
    "    compare = (sorted_batteries.loc[bad_i,['Formulas','Name_source','DOI']] == sorted_batteries.loc[:,['Formulas','Name_source','DOI']]).all(axis=1)\n",
    "    bad_indicies.extend(compare.index[compare])\n",
    "print('number of problematic instances',len(bad_indicies))"
   ]
  },
  {
   "cell_type": "code",
   "execution_count": 50,
   "id": "9daedb61",
   "metadata": {},
   "outputs": [],
   "source": [
    "# drop instances\n",
    "batteries_new = batteries.drop(index=bad_indicies)\n",
    "batteries.index.name = 'Index'\n",
    "# also drop instances with a dash '-' as a formula\n",
    "formulas = batteries_new.Formulas.apply(ast.literal_eval) \n",
    "has_dash = formulas.apply(lambda x :any(['-'in f for f in x]))\n",
    "batteries_new.drop(index=batteries_new[has_dash].index, inplace=True)\n",
    "# save \n",
    "batteries_new.to_csv('batteries_ultra_cleaned.csv')"
   ]
  },
  {
   "cell_type": "code",
   "execution_count": null,
   "id": "9cd37053",
   "metadata": {},
   "outputs": [],
   "source": []
  }
 ],
 "metadata": {
  "kernelspec": {
   "display_name": "Python 3 (ipykernel)",
   "language": "python",
   "name": "python3"
  },
  "language_info": {
   "codemirror_mode": {
    "name": "ipython",
    "version": 3
   },
   "file_extension": ".py",
   "mimetype": "text/x-python",
   "name": "python",
   "nbconvert_exporter": "python",
   "pygments_lexer": "ipython3",
   "version": "3.9.7"
  }
 },
 "nbformat": 4,
 "nbformat_minor": 5
}
